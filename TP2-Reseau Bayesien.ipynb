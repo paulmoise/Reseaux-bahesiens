{
 "cells": [
  {
   "cell_type": "code",
   "execution_count": 2,
   "id": "f2a1f1b3",
   "metadata": {},
   "outputs": [],
   "source": [
    "# !pip install pgmpy"
   ]
  },
  {
   "cell_type": "markdown",
   "id": "44757d55",
   "metadata": {},
   "source": [
    "## 1- Construction du modèle"
   ]
  },
  {
   "cell_type": "code",
   "execution_count": 6,
   "id": "13887414",
   "metadata": {},
   "outputs": [
    {
     "data": {
      "text/plain": [
       "True"
      ]
     },
     "execution_count": 6,
     "metadata": {},
     "output_type": "execute_result"
    }
   ],
   "source": [
    "#!/usr/bin/env python\n",
    "# coding: utf-8\n",
    "\n",
    "from pgmpy.models import BayesianNetwork\n",
    "from pgmpy.factors.discrete import TabularCPD\n",
    "\n",
    "\n",
    "# Defining the model structure. We can define the network by just passing a list of edges.\n",
    "model = BayesianNetwork(\n",
    "    [\n",
    "        ('DebtIncomeRatio', 'PaymentHistory'),\n",
    "        ('PaymentHistory', 'Age'),\n",
    "        ('PaymentHistory', 'Reliability'),\n",
    "        ('Age', 'Reliability'),\n",
    "        ('Income','Assets'), \n",
    "        ('Income', 'FutureIncome'),\n",
    "        ('Assets', 'FutureIncome'),\n",
    "        ('DebtIncomeRatio', 'BankLoan'),\n",
    "        ('Reliability', 'BankLoan'),\n",
    "        ('FutureIncome', 'BankLoan')\n",
    "    ]\n",
    ")\n",
    "\n",
    "# Defining individual CPDs.\n",
    "cpd_DebtIncomeRatio = TabularCPD(variable='DebtIncomeRatio', variable_card=2, values=[[0.5], [0.5]], state_names={'DebtIncomeRatio': ['Low', 'High']})\n",
    "cpd_Income = TabularCPD(variable='Income', variable_card=3, values=[[0.333], [0.333], [0.334]], state_names={'Income': ['High', 'Medium', 'Low']})\n",
    "\n",
    "\n",
    "# The representation of CPD in pgmpy is a bit different than the CPD shown in the above picture. In pgmpy the colums\n",
    "# are the evidences and rows are the states of the variable. So the grade CPD is represented like this:\n",
    "#\n",
    "#    +----------------+----------------+----------------+-----------+----------------+----------------+------------+----------------+----------------+--------------+\n",
    "#    | PaymentHistory |   Excellent    |    Excellent   | Excellent |   Acceptable   |   Acceptable   | Acceptable |  Unacceptable  |  Unacceptable  | Unacceptable |\n",
    "#    +----------------+----------------+----------------+-----------+----------------+----------------+------------+----------------+----------------+--------------+\n",
    "#    | Age            | Between16and25 | Between26and64 |   Over65  | Between16and25 | Between26and64 |   Over65   | Between16and25 | Between26and64 |    Over65    |\n",
    "#    +----------------+----------------+----------------+-----------+----------------+----------------+------------+----------------+----------------+--------------+\n",
    "#    | Reliability_0  |       0.7      |       0.8      |    0.9    |       0.6      |       0.7      |     0.8    |       0.5      |       0.6      |      0.7     |\n",
    "#    +----------------+----------------+----------------+-----------+----------------+----------------+------------+----------------+----------------+--------------+\n",
    "#    | Reliability_1  |       0.3      |       0.2      |    0.1    |       0.4      |       0.3      |     0.2    |       0.5      |       0.4      |      0.3     |\n",
    "#    +----------------+----------------+----------------+-----------+----------------+----------------+------------+----------------+----------------+--------------+\n",
    "\n",
    "\n",
    "cpd_Reliability = TabularCPD(variable='Reliability', variable_card=2,\n",
    "                      values=[[0.7, 0.8, 0.9, 0.6, 0.7, 0.8, 0.5, 0.6, 0.7],\n",
    "                              [0.3, 0.2, 0.1, 0.4, 0.3, 0.2, 0.5, 0.4, 0.3],],\n",
    "                      evidence=['PaymentHistory','Age'],\n",
    "                      evidence_card=[3,3],\n",
    "                      state_names={'Reliability': ['Reliable', 'Unreliable'],\n",
    "                                   'PaymentHistory': ['Excellent', 'Acceptable', 'Unacceptable'],\n",
    "                                   'Age': ['Between16and25', 'Between26and64', 'Over65']})\n",
    "\n",
    "cpd_Age = TabularCPD(variable='Age', variable_card=3, \n",
    "                      values=[[0.1, 0.333, 0.6],\n",
    "                              [0.3, 0.333, 0.3],\n",
    "                              [0.6, 0.334, 0.1]],\n",
    "                      evidence=['PaymentHistory'],\n",
    "                      evidence_card=[3],\n",
    "                      state_names={'Age': ['Between16and25', 'Between26and64', 'Over65'],\n",
    "                                   'PaymentHistory': ['Excellent', 'Acceptable', 'Unacceptable']})\n",
    "\n",
    "\n",
    "cpd_PaymentHistory = TabularCPD(variable='PaymentHistory', variable_card=3, \n",
    "                      values=[[0.6, 0.1],\n",
    "                              [0.3, 0.3],\n",
    "                              [0.1, 0.6]],\n",
    "                      evidence=['DebtIncomeRatio'],\n",
    "                      evidence_card=[2],\n",
    "                      state_names={'PaymentHistory': ['Excellent', 'Acceptable', 'Unacceptable'],\n",
    "                                   'DebtIncomeRatio': ['Low', 'High']})\n",
    "\n",
    "cpd_BankLoan = TabularCPD(variable='BankLoan', variable_card=2, \n",
    "                      values=[[0.8, 0.6, 0.6, 0.4, 0.6, 0.4, 0.4, 0.2],\n",
    "                              [0.2, 0.4, 0.4, 0.6, 0.4, 0.6, 0.6, 0.8]],\n",
    "                      evidence=['DebtIncomeRatio','Reliability','FutureIncome'],\n",
    "                      evidence_card=[2,2,2],\n",
    "                      state_names={'BankLoan': ['Positive', 'Negative'],\n",
    "                                   'DebtIncomeRatio': ['Low', 'High'],\n",
    "                                   'Reliability': ['Reliable', 'Unreliable'],\n",
    "                                   'FutureIncome': ['Promising', 'Not_promising']})\n",
    "\n",
    "\n",
    "   \n",
    "cpd_FutureIncome = TabularCPD(variable='FutureIncome', variable_card=2, \n",
    "                      values=[[0.9, 0.8, 0.7, 0.8,  0.75, 0.6, 0.7, 0.6, 0.5],\n",
    "                              [0.1, 0.2, 0.3, 0.2,  0.25, 0.4, 0.3, 0.4, 0.5 ]],\n",
    "                      evidence=['Assets', 'Income'],\n",
    "                      evidence_card=[3, 3],\n",
    "                      state_names={ 'FutureIncome': ['Promising', 'Not_promising'],\n",
    "                                    'Assets': ['High', 'Medium', 'Low'],\n",
    "                                    'Income': ['High', 'Medium', 'Low']})\n",
    "\n",
    "\n",
    "cpd_Assets = TabularCPD(variable='Assets', variable_card=3, \n",
    "                      values=[[0.8, 0.7, 0.5],\n",
    "                              [0.15, 0.2, 0.15],\n",
    "                              [0.05, 0.1, 0.35]],\n",
    "                      evidence=['Income'],\n",
    "                      evidence_card=[3],\n",
    "                      state_names={'Assets': ['High', 'Medium', 'Low'],\n",
    "                                   'Income': ['High', 'Medium', 'Low']})\n",
    "\n",
    "\n",
    "# {'DebtIncomeRatio': ['Low', 'High']})\n",
    "# {'Income': ['High', 'Medium', 'Low']})\n",
    "# {'PaymentHistory': ['Excellent', 'Acceptable', 'Unacceptable']}\n",
    "# {'Age': ['Between16and25', 'Between26and64', 'Over65']}\n",
    "# {'Reliability': ['Reliable', 'Unreliable']}\n",
    "# {'Assets': ['High', 'Medium', 'Low']}\n",
    "# {'FutureIncome': ['Promising', 'Not_promising']}\n",
    "# {'BankLoan': ['Positive', 'Negative']}\n",
    "\n",
    "# To complete\n",
    "# cpd_Assets =\n",
    "\n",
    "# cpd_FutureIncome =\n",
    "\n",
    "model.add_cpds(cpd_DebtIncomeRatio, cpd_Income, cpd_PaymentHistory, cpd_Age, cpd_Reliability, cpd_Assets, cpd_FutureIncome, cpd_BankLoan)\n",
    "model.check_model()\n"
   ]
  },
  {
   "cell_type": "markdown",
   "id": "64f0bff1",
   "metadata": {},
   "source": [
    "## Graphe"
   ]
  },
  {
   "cell_type": "code",
   "execution_count": 57,
   "id": "f62c60d4",
   "metadata": {},
   "outputs": [],
   "source": [
    "# !pip install graphviz"
   ]
  },
  {
   "cell_type": "code",
   "execution_count": 63,
   "id": "36e1dc20",
   "metadata": {},
   "outputs": [
    {
     "data": {
      "text/plain": [
       "'financial_metrics_graph.png'"
      ]
     },
     "execution_count": 63,
     "metadata": {},
     "output_type": "execute_result"
    }
   ],
   "source": [
    "from graphviz import Digraph\n",
    "\n",
    "# Initialize directed graph\n",
    "dot = Digraph()\n",
    "\n",
    "# Add nodes\n",
    "nodes = ['DebtIncomeRatio', 'PaymentHistory', 'Age', 'Reliability', 'Income', 'Assets', 'FutureIncome', 'BankLoan']\n",
    "for node in nodes:\n",
    "    dot.node(node)\n",
    "\n",
    "# Add edges\n",
    "edges = [\n",
    "    ('DebtIncomeRatio', 'PaymentHistory'),\n",
    "    ('PaymentHistory', 'Age'),\n",
    "    ('PaymentHistory', 'Reliability'),\n",
    "    ('Age', 'Reliability'),\n",
    "    ('Income', 'Assets'), \n",
    "    ('Income', 'FutureIncome'),\n",
    "    ('Assets', 'FutureIncome'),\n",
    "    ('DebtIncomeRatio', 'BankLoan'),\n",
    "    ('Reliability', 'BankLoan'),\n",
    "    ('FutureIncome', 'BankLoan')\n",
    "]\n",
    "\n",
    "for edge in edges:\n",
    "    dot.edge(*edge)\n",
    "\n",
    "# Render the graph to a file (e.g., 'financial_metrics_graph.pdf')\n",
    "dot.render('financial_metrics_graph', format='png', cleanup=True)\n",
    "\n",
    "# To display the graph inline in Jupyter, you can use\n",
    "# dot\n",
    "\n"
   ]
  },
  {
   "cell_type": "code",
   "execution_count": 64,
   "id": "cf947bf3",
   "metadata": {},
   "outputs": [
    {
     "data": {
      "image/png": "[encoded data removed]",
      "text/plain": [
       "<IPython.core.display.Image object>"
      ]
     },
     "execution_count": 64,
     "metadata": {},
     "output_type": "execute_result"
    }
   ],
   "source": [
    "from IPython.display import Image\n",
    "Image('financial_metrics_graph.png')"
   ]
  },
  {
   "cell_type": "markdown",
   "id": "d40f1013",
   "metadata": {},
   "source": [
    "## 2- Indépendance entre les variables"
   ]
  },
  {
   "cell_type": "markdown",
   "id": "e37a338f",
   "metadata": {},
   "source": [
    "### Indépendances locales"
   ]
  },
  {
   "cell_type": "code",
   "execution_count": 9,
   "id": "acae3cc2",
   "metadata": {},
   "outputs": [
    {
     "data": {
      "text/plain": [
       "(Income ⟂ DebtIncomeRatio, Reliability, Age, PaymentHistory)\n",
       "(DebtIncomeRatio ⟂ Income, FutureIncome, Assets)\n",
       "(PaymentHistory ⟂ Income, FutureIncome, Assets | DebtIncomeRatio)\n",
       "(Age ⟂ Income, DebtIncomeRatio, FutureIncome, Assets | PaymentHistory)\n",
       "(Reliability ⟂ Income, DebtIncomeRatio, FutureIncome, Assets | Age, PaymentHistory)\n",
       "(Assets ⟂ DebtIncomeRatio, Reliability, Age, PaymentHistory | Income)\n",
       "(FutureIncome ⟂ DebtIncomeRatio, Reliability, Age, PaymentHistory | Income, Assets)\n",
       "(BankLoan ⟂ Income, Age, PaymentHistory, Assets | DebtIncomeRatio, Reliability, FutureIncome)"
      ]
     },
     "execution_count": 9,
     "metadata": {},
     "output_type": "execute_result"
    }
   ],
   "source": [
    "model.local_independencies(['Income', 'DebtIncomeRatio', 'PaymentHistory', 'Age', 'Reliability', 'Assets', 'FutureIncome', 'BankLoan' ])"
   ]
  },
  {
   "cell_type": "markdown",
   "id": "b9a6b3b1",
   "metadata": {},
   "source": [
    "### Les variables aléatoires qui sont indépendantes de"
   ]
  },
  {
   "cell_type": "code",
   "execution_count": 13,
   "id": "d1d22b21",
   "metadata": {},
   "outputs": [
    {
     "data": {
      "text/plain": [
       "(Income ⟂ DebtIncomeRatio, Reliability, Age, PaymentHistory)"
      ]
     },
     "execution_count": 13,
     "metadata": {},
     "output_type": "execute_result"
    }
   ],
   "source": [
    "#Income\n",
    "model.local_independencies('Income')"
   ]
  },
  {
   "cell_type": "code",
   "execution_count": 14,
   "id": "d95b8766",
   "metadata": {},
   "outputs": [
    {
     "data": {
      "text/plain": [
       "{'Income': {'Age',\n",
       "  'Assets',\n",
       "  'DebtIncomeRatio',\n",
       "  'FutureIncome',\n",
       "  'Income',\n",
       "  'PaymentHistory',\n",
       "  'Reliability'}}"
      ]
     },
     "execution_count": 14,
     "metadata": {},
     "output_type": "execute_result"
    }
   ],
   "source": [
    "#Income étant donné BankLoan.\n",
    "model.active_trail_nodes('Income', observed='BankLoan')"
   ]
  },
  {
   "cell_type": "markdown",
   "id": "5b88aef1",
   "metadata": {},
   "source": [
    "# Apprentissage par maximum de vraisemblance"
   ]
  },
  {
   "cell_type": "code",
   "execution_count": 16,
   "id": "5951383d",
   "metadata": {},
   "outputs": [],
   "source": [
    "import pandas as pd\n",
    "\n",
    "data = pd.read_csv(\"50000-cases.csv\")"
   ]
  },
  {
   "cell_type": "code",
   "execution_count": 26,
   "id": "43f7a98b",
   "metadata": {},
   "outputs": [],
   "source": [
    "model = BayesianNetwork(\n",
    "    [\n",
    "        ('DebtIncomeRatio', 'PaymentHistory'),\n",
    "        ('PaymentHistory', 'Age'),\n",
    "        ('PaymentHistory', 'Reliability'),\n",
    "        ('Age', 'Reliability'),\n",
    "        ('Income','Assets'), \n",
    "        ('Income', 'FutureIncome'),\n",
    "        ('Assets', 'FutureIncome'),\n",
    "        ('DebtIncomeRatio', 'BankLoan'),\n",
    "        ('Reliability', 'BankLoan'),\n",
    "        ('FutureIncome', 'BankLoan')\n",
    "    ]\n",
    ")"
   ]
  },
  {
   "cell_type": "code",
   "execution_count": 27,
   "id": "9226ffc7",
   "metadata": {},
   "outputs": [],
   "source": [
    "from pgmpy.estimators import MaximumLikelihoodEstimator"
   ]
  },
  {
   "cell_type": "code",
   "execution_count": 28,
   "id": "ae112841",
   "metadata": {},
   "outputs": [],
   "source": [
    "model.fit(data, estimator=MaximumLikelihoodEstimator)"
   ]
  },
  {
   "cell_type": "code",
   "execution_count": 29,
   "id": "3a1fbdd4",
   "metadata": {},
   "outputs": [
    {
     "name": "stdout",
     "output_type": "stream",
     "text": [
      "+-----------------------+---------+\n",
      "| DebtIncomeRatio(High) | 0.50138 |\n",
      "+-----------------------+---------+\n",
      "| DebtIncomeRatio(Low)  | 0.49862 |\n",
      "+-----------------------+---------+\n",
      "+------------------------------+-----------------------+----------------------+\n",
      "| DebtIncomeRatio              | DebtIncomeRatio(High) | DebtIncomeRatio(Low) |\n",
      "+------------------------------+-----------------------+----------------------+\n",
      "| PaymentHistory(Acceptable)   | 0.2984163708165463    | 0.2973406602222133   |\n",
      "+------------------------------+-----------------------+----------------------+\n",
      "| PaymentHistory(Excellent)    | 0.0989668514898879    | 0.6018611367373952   |\n",
      "+------------------------------+-----------------------+----------------------+\n",
      "| PaymentHistory(Unacceptable) | 0.6026167776935658    | 0.10079820304039148  |\n",
      "+------------------------------+-----------------------+----------------------+\n",
      "+---------------------+-----+------------------------------+\n",
      "| PaymentHistory      | ... | PaymentHistory(Unacceptable) |\n",
      "+---------------------+-----+------------------------------+\n",
      "| Age(Between16and25) | ... | 0.6034619750283768           |\n",
      "+---------------------+-----+------------------------------+\n",
      "| Age(Between26and64) | ... | 0.2996027241770715           |\n",
      "+---------------------+-----+------------------------------+\n",
      "| Age(Over65)         | ... | 0.09693530079455165          |\n",
      "+---------------------+-----+------------------------------+\n",
      "+-------------------------+-----+------------------------------+\n",
      "| Age                     | ... | Age(Over65)                  |\n",
      "+-------------------------+-----+------------------------------+\n",
      "| PaymentHistory          | ... | PaymentHistory(Unacceptable) |\n",
      "+-------------------------+-----+------------------------------+\n",
      "| Reliability(Reliable)   | ... | 0.7189695550351288           |\n",
      "+-------------------------+-----+------------------------------+\n",
      "| Reliability(Unreliable) | ... | 0.2810304449648712           |\n",
      "+-------------------------+-----+------------------------------+\n",
      "+----------------+---------+\n",
      "| Income(High)   | 0.33454 |\n",
      "+----------------+---------+\n",
      "| Income(Low)    | 0.33286 |\n",
      "+----------------+---------+\n",
      "| Income(Medium) | 0.3326  |\n",
      "+----------------+---------+\n",
      "+----------------+-----+---------------------+\n",
      "| Income         | ... | Income(Medium)      |\n",
      "+----------------+-----+---------------------+\n",
      "| Assets(High)   | ... | 0.39963920625375826 |\n",
      "+----------------+-----+---------------------+\n",
      "| Assets(Low)    | ... | 0.2053517739025857  |\n",
      "+----------------+-----+---------------------+\n",
      "| Assets(Medium) | ... | 0.39500901984365605 |\n",
      "+----------------+-----+---------------------+\n",
      "+-----------------------------+-----+--------------------+\n",
      "| Assets                      | ... | Assets(Medium)     |\n",
      "+-----------------------------+-----+--------------------+\n",
      "| Income                      | ... | Income(Medium)     |\n",
      "+-----------------------------+-----+--------------------+\n",
      "| FutureIncome(Not_promising) | ... | 0.5008372659461106 |\n",
      "+-----------------------------+-----+--------------------+\n",
      "| FutureIncome(Promising)     | ... | 0.4991627340538895 |\n",
      "+-----------------------------+-----+--------------------+\n",
      "+--------------------+-----+-------------------------+\n",
      "| DebtIncomeRatio    | ... | DebtIncomeRatio(Low)    |\n",
      "+--------------------+-----+-------------------------+\n",
      "| FutureIncome       | ... | FutureIncome(Promising) |\n",
      "+--------------------+-----+-------------------------+\n",
      "| Reliability        | ... | Reliability(Unreliable) |\n",
      "+--------------------+-----+-------------------------+\n",
      "| BankLoan(Negative) | ... | 0.3998606757227447      |\n",
      "+--------------------+-----+-------------------------+\n",
      "| BankLoan(Positive) | ... | 0.6001393242772554      |\n",
      "+--------------------+-----+-------------------------+\n"
     ]
    }
   ],
   "source": [
    "for cpd in model.get_cpds():\n",
    "    print(cpd)"
   ]
  },
  {
   "cell_type": "code",
   "execution_count": 38,
   "id": "b63f107f",
   "metadata": {},
   "outputs": [],
   "source": [
    "from pgmpy.inference import VariableElimination\n",
    "\n",
    "inference = VariableElimination(model)"
   ]
  },
  {
   "cell_type": "code",
   "execution_count": null,
   "id": "e11e8ea5",
   "metadata": {},
   "outputs": [],
   "source": [
    "# P(BankLoan); \n",
    "# P(BankLoan|Income = Low,Age = Between16and25,PaymentHistory = Excellent,Assets = Low);\n",
    "# P(BankLoan|Income = High,Age = Between16and25,PaymentHistory = Excellent,Assets = High); \n",
    "# P(BankLoan|Income = High,Age = Over65,PaymentHistory = Excellent,Assets = High)."
   ]
  },
  {
   "cell_type": "code",
   "execution_count": 40,
   "id": "de8b8a60",
   "metadata": {},
   "outputs": [
    {
     "name": "stdout",
     "output_type": "stream",
     "text": [
      "+--------------------+-----------------+\n",
      "| BankLoan           |   phi(BankLoan) |\n",
      "+====================+=================+\n",
      "| BankLoan(Negative) |          0.4574 |\n",
      "+--------------------+-----------------+\n",
      "| BankLoan(Positive) |          0.5426 |\n",
      "+--------------------+-----------------+\n"
     ]
    }
   ],
   "source": [
    "# P(BankLoan)\n",
    "phi_query = inference.query(['BankLoan'])\n",
    "print(phi_query)"
   ]
  },
  {
   "cell_type": "code",
   "execution_count": 44,
   "id": "87ca361c",
   "metadata": {},
   "outputs": [
    {
     "name": "stdout",
     "output_type": "stream",
     "text": [
      "+--------------------+-----------------+\n",
      "| BankLoan           |   phi(BankLoan) |\n",
      "+====================+=================+\n",
      "| BankLoan(Negative) |          0.4674 |\n",
      "+--------------------+-----------------+\n",
      "| BankLoan(Positive) |          0.5326 |\n",
      "+--------------------+-----------------+\n"
     ]
    }
   ],
   "source": [
    "# P(BankLoan|Income = Low,Age = Between16and25,PaymentHistory = Excellent,Assets = Low);\n",
    "\n",
    "phi_query = inference.query(['BankLoan'], evidence={'Income': 'Low', 'Age':'Between16and25', 'PaymentHistory': 'Excellent', 'Assets': 'Low'})\n",
    "print(phi_query)"
   ]
  },
  {
   "cell_type": "code",
   "execution_count": 45,
   "id": "9290b2dc",
   "metadata": {},
   "outputs": [
    {
     "name": "stdout",
     "output_type": "stream",
     "text": [
      "+--------------------+-----------------+\n",
      "| BankLoan           |   phi(BankLoan) |\n",
      "+====================+=================+\n",
      "| BankLoan(Negative) |          0.3065 |\n",
      "+--------------------+-----------------+\n",
      "| BankLoan(Positive) |          0.6935 |\n",
      "+--------------------+-----------------+\n"
     ]
    }
   ],
   "source": [
    "# P(BankLoan|Income = High,Age = Between16and25,PaymentHistory = Excellent,Assets = High); \n",
    "phi_query = inference.query(['BankLoan'], evidence={'Income': 'High', 'Age':'Between16and25', 'PaymentHistory': 'Excellent', 'Assets': 'High'})\n",
    "print(phi_query)"
   ]
  },
  {
   "cell_type": "code",
   "execution_count": 47,
   "id": "fff730d4",
   "metadata": {},
   "outputs": [
    {
     "name": "stdout",
     "output_type": "stream",
     "text": [
      "+--------------------+-----------------+\n",
      "| BankLoan           |   phi(BankLoan) |\n",
      "+====================+=================+\n",
      "| BankLoan(Negative) |          0.2662 |\n",
      "+--------------------+-----------------+\n",
      "| BankLoan(Positive) |          0.7338 |\n",
      "+--------------------+-----------------+\n"
     ]
    }
   ],
   "source": [
    "# P(BankLoan|Income = High,Age = Over65,PaymentHistory = Excellent,Assets = High).\n",
    "phi_query = inference.query(['BankLoan'], evidence={'Income': 'High', 'Age':'Over65', 'PaymentHistory': 'Excellent', 'Assets': 'High'})\n",
    "print(phi_query)"
   ]
  },
  {
   "cell_type": "markdown",
   "id": "4e98a5ef",
   "metadata": {},
   "source": [
    "## 5-Inférence par échantillonnage en avant"
   ]
  },
  {
   "cell_type": "code",
   "execution_count": 50,
   "id": "5716f24b",
   "metadata": {},
   "outputs": [
    {
     "data": {
      "application/vnd.jupyter.widget-view+json": {
       "model_id": "2d1b2b3a42ec4d5a9e260e5ac2997e2d",
       "version_major": 2,
       "version_minor": 0
      },
      "text/plain": [
       "  0%|          | 0/8 [00:00<?, ?it/s]"
      ]
     },
     "metadata": {},
     "output_type": "display_data"
    },
    {
     "name": "stderr",
     "output_type": "stream",
     "text": [
      "WARNING:pgmpy:Probability values don't exactly sum to 1. Differ by: -2.220446049250313e-16. Adjusting values.\n",
      "WARNING:pgmpy:Probability values don't exactly sum to 1. Differ by: -2.220446049250313e-16. Adjusting values.\n"
     ]
    },
    {
     "name": "stdout",
     "output_type": "stream",
     "text": [
      "+--------------------+-----------------+\n",
      "| BankLoan           |   phi(BankLoan) |\n",
      "+====================+=================+\n",
      "| BankLoan(Positive) |          0.5430 |\n",
      "+--------------------+-----------------+\n",
      "| BankLoan(Negative) |          0.4570 |\n",
      "+--------------------+-----------------+\n"
     ]
    }
   ],
   "source": [
    "from pgmpy.inference import ApproxInference\n",
    "\n",
    "approx_infer = ApproxInference(model)\n",
    "\n",
    "#P(BankLoan)\n",
    "phi_query = approx_infer.query(variables=[\"BankLoan\"], n_samples=1000)\n",
    "print(phi_query)"
   ]
  },
  {
   "cell_type": "code",
   "execution_count": 51,
   "id": "7ed3252d",
   "metadata": {},
   "outputs": [
    {
     "data": {
      "application/vnd.jupyter.widget-view+json": {
       "model_id": "b8276e8e6a7b4e939cde61cf1c0f6a37",
       "version_major": 2,
       "version_minor": 0
      },
      "text/plain": [
       "  0%|          | 0/10000 [00:00<?, ?it/s]"
      ]
     },
     "metadata": {},
     "output_type": "display_data"
    },
    {
     "name": "stderr",
     "output_type": "stream",
     "text": [
      "WARNING:pgmpy:Probability values don't exactly sum to 1. Differ by: -2.220446049250313e-16. Adjusting values.\n",
      "WARNING:pgmpy:Probability values don't exactly sum to 1. Differ by: -2.220446049250313e-16. Adjusting values.\n",
      "WARNING:pgmpy:Probability values don't exactly sum to 1. Differ by: -2.220446049250313e-16. Adjusting values.\n",
      "WARNING:pgmpy:Probability values don't exactly sum to 1. Differ by: -2.220446049250313e-16. Adjusting values.\n"
     ]
    },
    {
     "name": "stdout",
     "output_type": "stream",
     "text": [
      "+--------------------+-----------------+\n",
      "| BankLoan           |   phi(BankLoan) |\n",
      "+====================+=================+\n",
      "| BankLoan(Negative) |          0.4696 |\n",
      "+--------------------+-----------------+\n",
      "| BankLoan(Positive) |          0.5304 |\n",
      "+--------------------+-----------------+\n"
     ]
    }
   ],
   "source": [
    "# P(BankLoan|Income = Low,Age = Between16and25,PaymentHistory = Excellent,Assets = Low);\n",
    "\n",
    "phi_query = approx_infer.query(['BankLoan'], evidence={'Income': 'Low', 'Age':'Between16and25', 'PaymentHistory': 'Excellent', 'Assets': 'Low'})\n",
    "print(phi_query)"
   ]
  },
  {
   "cell_type": "code",
   "execution_count": 52,
   "id": "0d1c9078",
   "metadata": {},
   "outputs": [
    {
     "data": {
      "application/vnd.jupyter.widget-view+json": {
       "model_id": "3c4f14467d1c4e1d958d5a989e442312",
       "version_major": 2,
       "version_minor": 0
      },
      "text/plain": [
       "  0%|          | 0/10000 [00:00<?, ?it/s]"
      ]
     },
     "metadata": {},
     "output_type": "display_data"
    },
    {
     "name": "stderr",
     "output_type": "stream",
     "text": [
      "WARNING:pgmpy:Probability values don't exactly sum to 1. Differ by: -2.220446049250313e-16. Adjusting values.\n",
      "WARNING:pgmpy:Probability values don't exactly sum to 1. Differ by: -2.220446049250313e-16. Adjusting values.\n",
      "WARNING:pgmpy:Probability values don't exactly sum to 1. Differ by: -2.220446049250313e-16. Adjusting values.\n",
      "WARNING:pgmpy:Probability values don't exactly sum to 1. Differ by: -2.220446049250313e-16. Adjusting values.\n"
     ]
    },
    {
     "name": "stdout",
     "output_type": "stream",
     "text": [
      "+--------------------+-----------------+\n",
      "| BankLoan           |   phi(BankLoan) |\n",
      "+====================+=================+\n",
      "| BankLoan(Negative) |          0.3058 |\n",
      "+--------------------+-----------------+\n",
      "| BankLoan(Positive) |          0.6942 |\n",
      "+--------------------+-----------------+\n"
     ]
    }
   ],
   "source": [
    "# P(BankLoan|Income = High,Age = Between16and25,PaymentHistory = Excellent,Assets = High); \n",
    "phi_query = approx_infer.query(['BankLoan'], evidence={'Income': 'High', 'Age':'Between16and25', 'PaymentHistory': 'Excellent', 'Assets': 'High'})\n",
    "print(phi_query)"
   ]
  },
  {
   "cell_type": "code",
   "execution_count": 53,
   "id": "7480382a",
   "metadata": {},
   "outputs": [
    {
     "data": {
      "application/vnd.jupyter.widget-view+json": {
       "model_id": "18f91af8ae0347b1b8ef7fdef9a28efb",
       "version_major": 2,
       "version_minor": 0
      },
      "text/plain": [
       "  0%|          | 0/10000 [00:00<?, ?it/s]"
      ]
     },
     "metadata": {},
     "output_type": "display_data"
    },
    {
     "name": "stderr",
     "output_type": "stream",
     "text": [
      "WARNING:pgmpy:Probability values don't exactly sum to 1. Differ by: -2.220446049250313e-16. Adjusting values.\n",
      "WARNING:pgmpy:Probability values don't exactly sum to 1. Differ by: -2.220446049250313e-16. Adjusting values.\n",
      "WARNING:pgmpy:Probability values don't exactly sum to 1. Differ by: -2.220446049250313e-16. Adjusting values.\n",
      "WARNING:pgmpy:Probability values don't exactly sum to 1. Differ by: -2.220446049250313e-16. Adjusting values.\n"
     ]
    },
    {
     "name": "stdout",
     "output_type": "stream",
     "text": [
      "+--------------------+-----------------+\n",
      "| BankLoan           |   phi(BankLoan) |\n",
      "+====================+=================+\n",
      "| BankLoan(Positive) |          0.7373 |\n",
      "+--------------------+-----------------+\n",
      "| BankLoan(Negative) |          0.2627 |\n",
      "+--------------------+-----------------+\n"
     ]
    }
   ],
   "source": [
    "# P(BankLoan|Income = High,Age = Over65,PaymentHistory = Excellent,Assets = High).\n",
    "phi_query = approx_infer.query(['BankLoan'], evidence={'Income': 'High', 'Age':'Over65', 'PaymentHistory': 'Excellent', 'Assets': 'High'})\n",
    "print(phi_query)"
   ]
  }
 ],
 "metadata": {
  "kernelspec": {
   "display_name": "Python 3 (ipykernel)",
   "language": "python",
   "name": "python3"
  },
  "language_info": {
   "codemirror_mode": {
    "name": "ipython",
    "version": 3
   },
   "file_extension": ".py",
   "mimetype": "text/x-python",
   "name": "python",
   "nbconvert_exporter": "python",
   "pygments_lexer": "ipython3",
   "version": "3.11.5"
  }
 },
 "nbformat": 4,
 "nbformat_minor": 5
}
