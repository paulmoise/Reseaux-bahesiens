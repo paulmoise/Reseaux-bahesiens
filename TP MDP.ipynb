{
 "cells": [
  {
   "cell_type": "code",
   "execution_count": 4,
   "id": "17c30e32",
   "metadata": {},
   "outputs": [],
   "source": [
    "import numpy as np"
   ]
  },
  {
   "cell_type": "code",
   "execution_count": 14,
   "id": "24cf300b",
   "metadata": {},
   "outputs": [],
   "source": [
    "def generate_grid(n:int, m: int):\n",
    "    \n",
    "    grid = np.zeros((n,m))\n",
    "    \n",
    "    grid[0][3] = +1\n",
    "    grid[1][3] = -1\n",
    "    \n",
    "    return grid\n",
    "    "
   ]
  },
  {
   "cell_type": "code",
   "execution_count": 6,
   "id": "825225e4",
   "metadata": {},
   "outputs": [],
   "source": [
    "n, m = 3, 4"
   ]
  },
  {
   "cell_type": "code",
   "execution_count": 15,
   "id": "fc5773c7",
   "metadata": {},
   "outputs": [
    {
     "data": {
      "text/plain": [
       "array([[ 0.,  0.,  0.,  1.],\n",
       "       [ 0.,  0.,  0., -1.],\n",
       "       [ 0.,  0.,  0.,  0.]])"
      ]
     },
     "execution_count": 15,
     "metadata": {},
     "output_type": "execute_result"
    }
   ],
   "source": [
    "generate_grid(n, m)"
   ]
  },
  {
   "cell_type": "code",
   "execution_count": 17,
   "id": "051b4180",
   "metadata": {},
   "outputs": [],
   "source": [
    "# start point\n",
    "x0, y0 = 2, 0"
   ]
  },
  {
   "cell_type": "code",
   "execution_count": 18,
   "id": "15b711e7",
   "metadata": {},
   "outputs": [],
   "source": [
    "from enum import Enum\n",
    " \n",
    "class Action(Enum):\n",
    "    TOP = 1\n",
    "    BOTTOM = 2\n",
    "    RIGHT = 3\n",
    "    LEFT = 4"
   ]
  },
  {
   "cell_type": "code",
   "execution_count": 21,
   "id": "ce4ddbef",
   "metadata": {},
   "outputs": [],
   "source": [
    "# Si l'action est d'aller a TOP: on a donc on a une proba de 0.8 d'aller a top et 0.1 pour les deux autres direction a 90 degree\n",
    "# a savoir RIGHT LEFT.\n",
    "\n",
    "# Si l'action est d'aller a Right alors on a une proba de 0.8 d'y aller et de 0.1 pour les deux autres directions a 90 degree \n",
    "# a savoir, TOP et Bottom"
   ]
  },
  {
   "cell_type": "code",
   "execution_count": 22,
   "id": "8a3c8e40",
   "metadata": {},
   "outputs": [],
   "source": [
    "rewards = np.zeros((n,m))\n",
    "rewards[0][3] = +1\n",
    "rewards[1][3] = -1"
   ]
  },
  {
   "cell_type": "code",
   "execution_count": 23,
   "id": "dff880ca",
   "metadata": {},
   "outputs": [
    {
     "data": {
      "text/plain": [
       "array([[ 0.,  0.,  0.,  1.],\n",
       "       [ 0.,  0.,  0., -1.],\n",
       "       [ 0.,  0.,  0.,  0.]])"
      ]
     },
     "execution_count": 23,
     "metadata": {},
     "output_type": "execute_result"
    }
   ],
   "source": [
    "rewards"
   ]
  },
  {
   "cell_type": "code",
   "execution_count": 24,
   "id": "aabdfc63",
   "metadata": {},
   "outputs": [],
   "source": [
    "value_function = np.zeros((n,m))"
   ]
  },
  {
   "cell_type": "code",
   "execution_count": null,
   "id": "3d32d2e7",
   "metadata": {},
   "outputs": [],
   "source": [
    "def proba_transition(action):\n",
    "    "
   ]
  },
  {
   "cell_type": "code",
   "execution_count": null,
   "id": "a5348a42",
   "metadata": {},
   "outputs": [],
   "source": []
  },
  {
   "cell_type": "code",
   "execution_count": 29,
   "id": "e2a5b924",
   "metadata": {},
   "outputs": [
    {
     "data": {
      "text/plain": [
       "array([[ 0.,  0.,  0.,  1.],\n",
       "       [ 0.,  0.,  0., -1.],\n",
       "       [ 0.,  0.,  0.,  0.]])"
      ]
     },
     "execution_count": 29,
     "metadata": {},
     "output_type": "execute_result"
    }
   ],
   "source": [
    "rewards"
   ]
  },
  {
   "cell_type": "code",
   "execution_count": 30,
   "id": "7130ccc4",
   "metadata": {},
   "outputs": [],
   "source": [
    "def get_possible_directions(x, y, n_row = 3, n_col=4):\n",
    "    \n",
    "    if x == 0 and y == 0:\n",
    "        return ['B', 'R']\n",
    "    \n",
    "    if x == 0 and y == n_col -1:\n",
    "        return ['B', 'L']\n",
    "    \n",
    "    if x == 0 and 0 < y < n_col:\n",
    "        return ['B', 'R', 'L']\n",
    "    \n",
    "    if x == n_row - 1 and y == 0:\n",
    "        return ['T', 'R']\n",
    "    \n",
    "    if x == n_row - 1 and y == n_col -1:\n",
    "        return ['T', 'L']\n",
    "    \n",
    "    if x == n_row - 1 and 0 < y < n_col:\n",
    "        return ['T', 'R', 'L']\n",
    "    \n",
    "    if y == 0 and 0 < x < n_row:\n",
    "        return ['T', 'B', 'R']\n",
    "    \n",
    "    if y == n_col - 1 and 0 < x < n_row:\n",
    "        return ['T', 'B', 'L']\n",
    "    \n",
    "    if 0 < x < n_row and 0 < y < n_col:\n",
    "        return ['T', 'B', 'R', 'L']\n",
    "    "
   ]
  },
  {
   "cell_type": "code",
   "execution_count": null,
   "id": "f697ad01",
   "metadata": {},
   "outputs": [],
   "source": [
    "import random\n",
    "\n",
    "def get_next_position(x, y, action, invalid_cell):\n",
    "    \n",
    "    possible_directions = get_possible_actions(x,y) # possible action in this state\n",
    "    \n",
    "    if action in possible_directions:\n",
    "        \n",
    "        if 0 < x < n_row and 0 < y < n_col:\n",
    "            if action == 'T' or action == 'B':\n",
    "                realisable_directions = ['R', 'L']\n",
    "            else:\n",
    "                realisable_directions = ['B', 'T']\n",
    "            \n",
    "        else:\n",
    "            realisable_directions = [direction for direction in possibles_directions if direction != action ]\n",
    "            \n",
    "            \n",
    "        return realisable_directions  "
   ]
  },
  {
   "cell_type": "code",
   "execution_count": 26,
   "id": "52a902a0",
   "metadata": {},
   "outputs": [
    {
     "ename": "SyntaxError",
     "evalue": "incomplete input (1137679079.py, line 6)",
     "output_type": "error",
     "traceback": [
      "\u001b[1;36m  Cell \u001b[1;32mIn[26], line 6\u001b[1;36m\u001b[0m\n\u001b[1;33m    \u001b[0m\n\u001b[1;37m    ^\u001b[0m\n\u001b[1;31mSyntaxError\u001b[0m\u001b[1;31m:\u001b[0m incomplete input\n"
     ]
    }
   ],
   "source": [
    "n_iter = 0\n",
    "ITER_MAX = 1000\n",
    "x0, y0 = 0, 0\n",
    "γ = 0.9\n",
    "\n",
    "V = np.zeros((n,m))\n",
    "V[0][3] = +1\n",
    "V[1][3] = -1\n",
    "\n",
    "\n",
    "while n_iter < ITER_MAX:\n",
    "    \n",
    "    for x in range(n_row):\n",
    "        for y in range(n_col):\n",
    "            \n",
    "            V[x][x] =  \n",
    "    "
   ]
  },
  {
   "cell_type": "code",
   "execution_count": null,
   "id": "cbe79467",
   "metadata": {},
   "outputs": [],
   "source": []
  }
 ],
 "metadata": {
  "kernelspec": {
   "display_name": "Python 3 (ipykernel)",
   "language": "python",
   "name": "python3"
  },
  "language_info": {
   "codemirror_mode": {
    "name": "ipython",
    "version": 3
   },
   "file_extension": ".py",
   "mimetype": "text/x-python",
   "name": "python",
   "nbconvert_exporter": "python",
   "pygments_lexer": "ipython3",
   "version": "3.11.5"
  }
 },
 "nbformat": 4,
 "nbformat_minor": 5
}
